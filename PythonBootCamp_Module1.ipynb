{
 "cells": [
  {
   "cell_type": "code",
   "execution_count": 1,
   "id": "6a879773-2946-4cd7-8cb0-cc15cde8c050",
   "metadata": {},
   "outputs": [
    {
     "name": "stdout",
     "output_type": "stream",
     "text": [
      "C:\\Users\\Hp\\AppData\\Local\\Temp\\ipykernel_21312\n"
     ]
    }
   ],
   "source": [
    "import inspect \n",
    "import os \n",
    "script_directory = os.path.dirname(os.path.abspath( \n",
    "inspect.getfile(inspect.currentframe()))) \n",
    "\n",
    "print(script_directory) \n"
   ]
  },
  {
   "cell_type": "code",
   "execution_count": 5,
   "id": "08ea74ac-8e78-4bae-a8f3-f1dbcfdf453e",
   "metadata": {},
   "outputs": [
    {
     "name": "stdout",
     "output_type": "stream",
     "text": [
      "Hello World\n"
     ]
    }
   ],
   "source": [
    "print(\"Hello World\")"
   ]
  },
  {
   "cell_type": "code",
   "execution_count": 15,
   "id": "3f977ca2-2651-488b-a978-180ca90c7d32",
   "metadata": {},
   "outputs": [
    {
     "name": "stdin",
     "output_type": "stream",
     "text": [
      "What is your name  Teja\n"
     ]
    },
    {
     "name": "stdout",
     "output_type": "stream",
     "text": [
      "Hello Teja Nice to meet you\n"
     ]
    }
   ],
   "source": [
    "name=input(\"What is your name \")\n",
    "print(\"Hello \"+name+ \" Nice to meet you\")"
   ]
  },
  {
   "cell_type": "code",
   "execution_count": 17,
   "id": "afa37a92-30ad-47d9-98d6-7e2e87819cd4",
   "metadata": {},
   "outputs": [
    {
     "name": "stdout",
     "output_type": "stream",
     "text": [
      "$$$$$$$$$$$$$$$$$$$$$$$$$$$$$$$$$$$$$$$$$$$$$$$$$$$$$$$$$$$$$$$$$$$$$$$$$$$$$$$$$$$$$$$$$$$$$$$$$$$$$$$$$$$$$$$$$$$$$$$$$$$$$$$$$$$$$$$$$$$$$$$$$$$$$$$$$$$$$$$$$$$$$$$$$$$$$$$$$$$$$$$$$$$$$$$$$$$$$$$$$$$$$$$$$$$$$$$$$$$$$$$$$$$$$$$$$$$$$$$$$$$$$$$$$$$$$$$$$$$$$$$$$$$$$$$$$$$$$$$$$$$$$$$$$$$$$$$$$$$$$$$$$$$$$$$$$$$$$$$$$$$$$$$$$$$$$$$$$$$$$$$$$$$$$$$$$$$$$$$$$$$$$$$$$$$$$$$$$$$$$$$$$$$$$$$$$$$$$$$$$$$$$$$$$$$$$$$$$$$$$$$$$$$$$$$$$$$$$$$$$$$$$$$$$$$$$$$$$$$$$$$$$$$$$$$$$$$$$$$$$$$$$$$$$$$$$$$$$$$$$$$$$$$$$$$$$$$$$$$$$$$$$$$$$$$$$$$$$$$$$$$$$$$$$$$$$$$$$$$$$$$$$$$$$$$$$$$$$$$$$$$$$$$$$$$$$$$$$$$$$$$$$$$$$$$$$$$$$$$$$$$$$$$$$$$$$$$$$$$$$$$$$$$$$$$$$$$$$$$$$$$$$$$$$$$$$$$$$$$$$$$$$$$$$$$$$$$$$$$$$$$$$$$$$$$$$$$$$$$$$$$$$$$$$$$$$$$$$$$$$$$$$$$$$$$$$$$$$$$$$$$$$$$$$$$$$$$$$$$$$$$$$$$$$$$$$$$$$$$$$$$$$$$$$$$$$$$$$$$$$$$$$$$$$$$$$$$$$$$$$$$$$$$$$$$$$$$$$$$$$$$$$$$$$$$$$$$$$$$$$$$$$$$$$$$$$$$$$$$$$$$$$$$$$$$$$$$$$$$$$$$$$$$$$$$$$$$$$$$$$$$$$$$$$$$$$$$$$$$$$$$$$$$$$$$$$$$$$$$$$$$$$$$$$$$$$$$$$$$$\n"
     ]
    }
   ],
   "source": [
    "print(\"$\"*1000)"
   ]
  },
  {
   "cell_type": "raw",
   "id": "fe5f06ec-84a7-4592-a511-5c3e20b3ed89",
   "metadata": {},
   "source": [
    "'Variables'\n",
    "Python varaibles are container that is used to store any type of value and of any particular size.\n",
    "\n",
    "There is no need to declare the data type of the variable as done in other programming languages, such as C, C++ and JAVA\n",
    "\n",
    "int c = 5\n",
    "\n",
    "string name = 'Alex'\n",
    "\n",
    "\n",
    "The variable name (or identifier) cannot start with a number, i.e., declaring something like 2name = 7 throws an error.\n",
    "\n",
    "Python is case sensitive or in other words, these variables are case sensitive. This means that declaring  name= 2 & Name = 4 would create two different variables\n",
    "\n",
    "\n"
   ]
  },
  {
   "cell_type": "raw",
   "id": "a952690d-6611-423d-9242-c0804ea3eb70",
   "metadata": {},
   "source": [
    "To get input from user we use input function in python\n"
   ]
  },
  {
   "cell_type": "code",
   "execution_count": 23,
   "id": "202535a6-2c0c-4017-8c87-facd27819476",
   "metadata": {},
   "outputs": [
    {
     "name": "stdin",
     "output_type": "stream",
     "text": [
      "Please give a number 6\n"
     ]
    },
    {
     "name": "stdout",
     "output_type": "stream",
     "text": [
      "6\n"
     ]
    }
   ],
   "source": [
    "k=input(\"Please give a number\")\n",
    "print(k)"
   ]
  },
  {
   "cell_type": "code",
   "execution_count": 37,
   "id": "3d59d8c8-e55d-40ba-b6a7-bfdc83a9ec98",
   "metadata": {},
   "outputs": [
    {
     "name": "stdin",
     "output_type": "stream",
     "text": [
      "Enter your age: 8\n"
     ]
    },
    {
     "name": "stdout",
     "output_type": "stream",
     "text": [
      "Your age in months is 96\n"
     ]
    }
   ],
   "source": [
    "age=int(input(\"Enter your age:\"))\n",
    "print(\"Your age in months is \" + str(age * 12))\n"
   ]
  },
  {
   "cell_type": "raw",
   "id": "bfa28b58-fd18-4078-a6ff-0668fba53c31",
   "metadata": {},
   "source": [
    "To find the data type of a variable use type()\n",
    "For casting variables use the keyword of the target data type."
   ]
  },
  {
   "cell_type": "code",
   "execution_count": 47,
   "id": "06b517d1-58e9-4a38-8a00-d6f670f754fd",
   "metadata": {},
   "outputs": [
    {
     "name": "stdout",
     "output_type": "stream",
     "text": [
      "<class 'int'>\n",
      "True\n",
      "<class 'bool'>\n"
     ]
    }
   ],
   "source": [
    "print(type(age))\n",
    "a=1\n",
    "print(bool(a))\n",
    "print(type(bool(a)))"
   ]
  },
  {
   "cell_type": "raw",
   "id": "be523165-aed3-4c1a-a5d2-ac3de7745dd8",
   "metadata": {},
   "source": [
    "Operator Precedence\n",
    "Let us understand Operator precedence using an example.\n",
    "\n",
    " a = 4 + (8 ** 2) - 3 ** 2 % 1 \n",
    "To find the value of the variable 'a' the following steps have to be followed.\n",
    "Step 1: The first step is to deal with brackets as it holds the highest precedence among all operators in the given expression. The expression inside these brackets [(8**2)] will get executed first to return 64.\n",
    "Updated Expression: 4+64−3∗∗2%1 \n",
    "Step 2: Moving on, you deal with the exponentiation operator [3**2] as it has the next highest precedence when compared to other operators in the expression.\n",
    "Updated Expression: 4+64−9%1\n",
    "Step 3: Now, you deal with the remainder operator as it has higher precedence over subtraction and addition. This means the value 9%1 gets evaluated to return 0.\n",
    "Updated Expression: 4+64−0\n",
    "Step 4: In the next step, the addition operator gets executed as it holds higher precedence over subtraction. \n",
    "Updated Expression: 68−0\n",
    "Step 5: The final step would be to perform subtraction\n",
    "Answer: 68"
   ]
  },
  {
   "cell_type": "code",
   "execution_count": 51,
   "id": "dcb156d1-6f06-4010-af07-c40c18f84e75",
   "metadata": {},
   "outputs": [
    {
     "name": "stdin",
     "output_type": "stream",
     "text": [
      "What flavour would you like  Strawberry\n",
      "What type of dessert would you like  Rasgulla\n"
     ]
    },
    {
     "name": "stdout",
     "output_type": "stream",
     "text": [
      "You have ordered Strawberry-Rasgulla\n"
     ]
    }
   ],
   "source": [
    "#Let's try building a system that could ask for flavour, and the type of desert user wants\n",
    "flavour=input(\"What flavour would you like \")\n",
    "dessert_type=input(\"What type of dessert would you like \")\n",
    "print(\"You have ordered\", flavour+\"-\"+dessert_type)"
   ]
  },
  {
   "cell_type": "raw",
   "id": "85681e15-9275-4b81-9adc-7788a2c9882c",
   "metadata": {},
   "source": [
    "In the previous video, you learned about indexing in strings. Always remember that forward indexing starts with 0, and reverse indexing starts with -1.\n",
    "We should also keep in mind the distinct feature of immutability that string data type provides, which means that once a string is created, it cannot be changed.\n",
    "And for cases where we may want to add data from multiple strings together, such as creation of a variable 'Full name' from variables 'First name' and 'Last name' we'll use string concatenation.\n",
    "Now, let's move on to the next video and understand another important concept string slicing."
   ]
  },
  {
   "cell_type": "code",
   "execution_count": 53,
   "id": "38e87ea1-e748-482e-a97d-8dd477b9f036",
   "metadata": {},
   "outputs": [
    {
     "data": {
      "text/plain": [
       "9"
      ]
     },
     "execution_count": 53,
     "metadata": {},
     "output_type": "execute_result"
    }
   ],
   "source": [
    "k=\"Hari Teja\"\n",
    "len(k)"
   ]
  },
  {
   "cell_type": "code",
   "execution_count": 55,
   "id": "2aac463c-7324-45a6-a74e-569ecb460632",
   "metadata": {},
   "outputs": [],
   "source": [
    "#Strings are immutable .We cannot modify while accessing"
   ]
  },
  {
   "cell_type": "raw",
   "id": "2e89b210-0f50-4f4e-88d2-9d75c683b93b",
   "metadata": {},
   "source": [
    "#Slicing in string\n",
    "string[start:end:step]"
   ]
  },
  {
   "cell_type": "code",
   "execution_count": 65,
   "id": "62c11114-703c-4fdd-8d79-7c10209c8a40",
   "metadata": {},
   "outputs": [
    {
     "name": "stdout",
     "output_type": "stream",
     "text": [
      "True\n",
      "TEJA HARI VIGNESH INDIA\n",
      "teja hari vignesh india\n"
     ]
    }
   ],
   "source": [
    "#Memebership\n",
    "it=\"Teja Hari Vignesh India\"\n",
    "print(\"Hari\" in it)\n",
    "print(it.upper())\n",
    "print(it.lower())\n"
   ]
  },
  {
   "cell_type": "code",
   "execution_count": 75,
   "id": "5ccdba69-8f95-4b80-8b16-68e14a83005e",
   "metadata": {},
   "outputs": [
    {
     "name": "stdout",
     "output_type": "stream",
     "text": [
      " Hari Teja This i \n"
     ]
    }
   ],
   "source": [
    "#rstrip\n",
    "y=\"ttt Hari Teja This i kkkkkkk\"\n",
    "j=y.rstrip('k')\n",
    "h=j.lstrip('t')\n",
    "print(h)"
   ]
  },
  {
   "cell_type": "code",
   "execution_count": 119,
   "id": "74113517-118f-44c9-99eb-5d6e97bc4a20",
   "metadata": {},
   "outputs": [
    {
     "name": "stdout",
     "output_type": "stream",
     "text": [
      "chembur,mumbai\n"
     ]
    }
   ],
   "source": [
    "import ast,sys\n",
    "input_str = 'cmhuemmbbauir#'\n",
    "message1=input_str[0: :2].rstrip('#')+','+input_str[1: :2].rstrip('#')\n",
    "print(message1)\n"
   ]
  },
  {
   "cell_type": "code",
   "execution_count": 107,
   "id": "b3db2f76-dba6-4140-b43b-a9d4f6227ace",
   "metadata": {},
   "outputs": [
    {
     "ename": "NameError",
     "evalue": "name 'Hari' is not defined",
     "output_type": "error",
     "traceback": [
      "\u001b[1;31m---------------------------------------------------------------------------\u001b[0m",
      "\u001b[1;31mNameError\u001b[0m                                 Traceback (most recent call last)",
      "Cell \u001b[1;32mIn[107], line 1\u001b[0m\n\u001b[1;32m----> 1\u001b[0m Hari\n",
      "\u001b[1;31mNameError\u001b[0m: name 'Hari' is not defined"
     ]
    }
   ],
   "source": [
    "\n"
   ]
  },
  {
   "cell_type": "code",
   "execution_count": null,
   "id": "199a9d35-8b2b-48c0-9c23-f5ed1f250f93",
   "metadata": {},
   "outputs": [],
   "source": []
  }
 ],
 "metadata": {
  "kernelspec": {
   "display_name": "Python 3 (ipykernel)",
   "language": "python",
   "name": "python3"
  },
  "language_info": {
   "codemirror_mode": {
    "name": "ipython",
    "version": 3
   },
   "file_extension": ".py",
   "mimetype": "text/x-python",
   "name": "python",
   "nbconvert_exporter": "python",
   "pygments_lexer": "ipython3",
   "version": "3.12.7"
  }
 },
 "nbformat": 4,
 "nbformat_minor": 5
}
